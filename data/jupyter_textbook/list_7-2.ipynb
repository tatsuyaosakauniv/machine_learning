{
 "cells": [
  {
   "cell_type": "code",
   "execution_count": 2,
   "metadata": {},
   "outputs": [],
   "source": [
    "import numpy as np\n",
    "import matplotlib.pyplot as plt\n",
    "import time\n",
    "np.random.seed(1) # (A)\n",
    "import tensorflow as tf\n",
    "from tensorflow.keras.models import Sequential\n",
    "from tensorflow.keras.layers import Dense, Activation"
   ]
  },
  {
   "cell_type": "code",
   "execution_count": 3,
   "metadata": {},
   "outputs": [],
   "source": [
    "# データのload\n",
    "outfile = np.load('class_data.npz')\n",
    "X_train = outfile['X_train']\n",
    "T_train = outfile['T_train']\n",
    "X_test = outfile['X_test']\n",
    "T_test = outfile['T_test']\n",
    "X_range0 = outfile['X_range0']\n",
    "X_range1 = outfile['X_range1']"
   ]
  },
  {
   "cell_type": "code",
   "execution_count": 4,
   "metadata": {},
   "outputs": [],
   "source": [
    "# データの図示\n",
    "def Show_data(x, t):\n",
    "    wk, n = t.shape\n",
    "    c = [[0, 0, 0], [.5, .5, .5], [1, 1, 1]]\n",
    "    for i in range(n):\n",
    "        plt.plot(x[t[:, i] == 1, 0], x[t[:, i] == 1, 1], linestyle='none', marker='o', markeredgecolor='black', color=c[i], alpha=0.8)\n",
    "    plt.grid(True)"
   ]
  },
  {
   "cell_type": "code",
   "execution_count": 5,
   "metadata": {},
   "outputs": [
    {
     "name": "stderr",
     "output_type": "stream",
     "text": [
      "c:\\Users\\monji\\machine_learning\\.venv\\lib\\site-packages\\keras\\src\\layers\\core\\dense.py:87: UserWarning: Do not pass an `input_shape`/`input_dim` argument to a layer. When using Sequential models, prefer using an `Input(shape)` object as the first layer in the model instead.\n",
      "  super().__init__(activity_regularizer=activity_regularizer, **kwargs)\n",
      "c:\\Users\\monji\\machine_learning\\.venv\\lib\\site-packages\\keras\\src\\optimizers\\base_optimizer.py:86: UserWarning: Argument `decay` is no longer supported and will be ignored.\n",
      "  warnings.warn(\n"
     ]
    },
    {
     "name": "stdout",
     "output_type": "stream",
     "text": [
      "cross entropy 0.25, accuracy 0.92\n",
      "Calculation time:25.046 sec\n"
     ]
    }
   ],
   "source": [
    "# 乱数の初期化\n",
    "np.random.seed(1)\n",
    "\n",
    "# Sequential モデルの作成\n",
    "model = Sequential()\n",
    "model.add(Dense(2, input_dim=2, activation='sigmoid', kernel_initializer='uniform'))    # (A)\n",
    "model.add(Dense(3, activation='softmax', kernel_initializer='uniform'))    # (B)\n",
    "sgd = tf.keras.optimizers.SGD(learning_rate=0.5, momentum=0.0, decay=0.0, nesterov=False)    # (C)  !!! lr は昔のバージョンしか使えない\n",
    "model.compile(optimizer=sgd, loss='categorical_crossentropy', metrics=['accuracy'])    # (D)\n",
    "\n",
    "# 学習\n",
    "startTime = time.time()\n",
    "history = model.fit(X_train, T_train, epochs=1000, batch_size=100, verbose=0, validation_data=(X_test, T_test))    #  (E)\n",
    "\n",
    "# モデル評価\n",
    "score = model.evaluate(X_test, T_test, verbose=0)   # (F)\n",
    "print('cross entropy {0:.2f}, accuracy {1:.2f}'.format(score[0], score[1]))\n",
    "calculation_time = time.time() - startTime\n",
    "print(\"Calculation time:{0:.3f} sec\".format(calculation_time))"
   ]
  }
 ],
 "metadata": {
  "kernelspec": {
   "display_name": ".venv",
   "language": "python",
   "name": "python3"
  },
  "language_info": {
   "codemirror_mode": {
    "name": "ipython",
    "version": 3
   },
   "file_extension": ".py",
   "mimetype": "text/x-python",
   "name": "python",
   "nbconvert_exporter": "python",
   "pygments_lexer": "ipython3",
   "version": "3.9.13"
  }
 },
 "nbformat": 4,
 "nbformat_minor": 2
}
